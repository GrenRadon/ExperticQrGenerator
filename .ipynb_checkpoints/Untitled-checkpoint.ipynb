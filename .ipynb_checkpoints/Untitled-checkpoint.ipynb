{
 "cells": [
  {
   "cell_type": "markdown",
   "metadata": {},
   "source": [
    "# ***Expertic QR Generator***"
   ]
  },
  {
   "cell_type": "code",
   "execution_count": 34,
   "metadata": {},
   "outputs": [],
   "source": [
    "import pyqrcode\n",
    "from PIL import Image\n",
    "\n",
    "# Generate the qr code and save as png\n",
    "qrobj = pyqrcode.create('https://stackoverflow.com')\n",
    "with open('test.png', 'wb') as f:\n",
    "    qrobj.png(f, scale = 15)\n",
    "\n",
    "# Now open that png image to put the logo\n",
    "img = Image.open('test.png').convert('RGB')\n",
    "width, height = img.size\n",
    "\n",
    "# How big the logo we want to put in the qr code png\n",
    "logo_size = 120\n",
    "\n",
    "# Open the logo image\n",
    "logo = Image.open('result.png').convert('RGB')\n",
    "\n",
    "# Calculate xmin, ymin, xmax, ymax to put the logo\n",
    "xmin = ymin = int((width / 2) - (logo_size / 2))\n",
    "xmax = ymax = int((width / 2) + (logo_size / 2))\n",
    "\n",
    "# resize the logo as calculated\n",
    "logo = logo.resize((xmax - xmin, ymax - ymin))\n",
    "\n",
    "# put the logo in the qr code\n",
    "img.paste(logo, (xmin, ymin, xmax, ymax))\n",
    "\n",
    "img.show()\n",
    "img.save(\"Salida.png\")"
   ]
  },
  {
   "cell_type": "code",
   "execution_count": null,
   "metadata": {},
   "outputs": [],
   "source": []
  },
  {
   "cell_type": "code",
   "execution_count": 5,
   "metadata": {},
   "outputs": [],
   "source": [
    "import tkinter\n",
    "top = tkinter.Tk()\n",
    "# Code to add widgets will go here...\n",
    "top.mainloop()"
   ]
  },
  {
   "cell_type": "code",
   "execution_count": 4,
   "metadata": {},
   "outputs": [],
   "source": [
    "from PIL import Image, ImageOps, ImageDraw\n",
    "\n",
    "def add_corners(im, rad):\n",
    "    circle = Image.new('L', (rad * 2, rad * 2), 0)\n",
    "    draw = ImageDraw.Draw(circle)\n",
    "    draw.ellipse((0, 0, rad * 2, rad * 2), fill=255)\n",
    "    alpha = Image.new('L', im.size, 255)\n",
    "    w, h = im.size\n",
    "    alpha.paste(circle.crop((0, 0, rad, rad)), (0, 0))\n",
    "    alpha.paste(circle.crop((0, rad, rad, rad * 2)), (0, h - rad))\n",
    "    alpha.paste(circle.crop((rad, 0, rad * 2, rad)), (w - rad, 0))\n",
    "    alpha.paste(circle.crop((rad, rad, rad * 2, rad * 2)), (w - rad, h - rad))\n",
    "    im.putalpha(alpha)\n",
    "    return im\n",
    "\n",
    "# Open image\n",
    "im = Image.open('experetic-logo-modified.jpeg')\n",
    "\n",
    "# Add border and save\n",
    "bordered = ImageOps.expand(im, border=(0,30,0,0), fill=(255,255,255))\n",
    "\n",
    "bordered = add_corners(bordered, 50)\n",
    "bordered.save('result.png')\n",
    "    \n"
   ]
  },
  {
   "cell_type": "code",
   "execution_count": null,
   "metadata": {},
   "outputs": [],
   "source": []
  }
 ],
 "metadata": {
  "kernelspec": {
   "display_name": "Python 3 (ipykernel)",
   "language": "python",
   "name": "python3"
  },
  "language_info": {
   "codemirror_mode": {
    "name": "ipython",
    "version": 3
   },
   "file_extension": ".py",
   "mimetype": "text/x-python",
   "name": "python",
   "nbconvert_exporter": "python",
   "pygments_lexer": "ipython3",
   "version": "3.10.6"
  }
 },
 "nbformat": 4,
 "nbformat_minor": 4
}
